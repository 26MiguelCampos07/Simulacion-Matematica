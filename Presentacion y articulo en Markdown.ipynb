{
 "cells": [
  {
   "cell_type": "markdown",
   "id": "7693f775",
   "metadata": {},
   "source": [
    "# \"Mi presentacion\"\n",
    "## Presentacion y articulo en Markdown-Tarea 1\n",
    "Mi nombre es **Miguel Alejandro Campos Fernandez**, tengo 19 años y soy de la ciudad de Guadalaja, estudio Ingenieria Financiera y voy en _4to semestre_, me apasionan los deportes y me considero fan de la **NFL**\n",
    "\n",
    "Mi resumen sobre un articulo sera sobre la noticia **\"Jason Kelcea se retira tras la derrota de los Eagles\"**\n",
    "\n",
    "Como lo menciona el titulo, el centro de los Philadelphia Eagles anuncia su retiro a la edad de 36 años, una buena edad para el retiro de jugadores de su posicion, tras su derrota en contra de los Tampa Bay Bucaneers en los playoffs de la **NFL** este fin de semana.\n",
    "\n",
    "Uno de los mejores jugadores en al historia de la NFL en su posicion, Jason Kelcea participo en 6 All Pro games y llevo a su equipo a la gran final del superbowl la temporada pasada en contra de su hermano Travis Kelcea, en el que fueron los primeros hermanos en jugar en contra en una final del mismo.\n",
    "\n",
    "Compartio campo con grandes estrellas del salon de la fama como Jim Otto, Bulldog Turner, Dermotti Dawson y Jim Ringo.\n",
    "\n",
    "Su retiro marca un antes y despues en la franquicia a la que llevo a ganar su primer y ultimo superbowl hasta la fecha en el **Super Bowl Lll**\n",
    "\n",
    "Los fans deseaban verlo mas en la liga sin embargo su decision ya fue tomada y le informo oficialmente a sus compañeros en el vestuario.\n",
    "\n",
    "_Informacion obtenida de:_[Presiona aqui](https://www.msn.com/es-mx/deportes/football/nfl-jason-kelce-anuncia-su-retiro-tras-eliminaci%C3%B3n-de-eagles-en-playoffs/ar-AA1n3QIM)\n",
    "\n"
   ]
  },
  {
   "cell_type": "code",
   "execution_count": null,
   "id": "191e235c",
   "metadata": {},
   "outputs": [],
   "source": []
  }
 ],
 "metadata": {
  "kernelspec": {
   "display_name": "Python 3 (ipykernel)",
   "language": "python",
   "name": "python3"
  },
  "language_info": {
   "codemirror_mode": {
    "name": "ipython",
    "version": 3
   },
   "file_extension": ".py",
   "mimetype": "text/x-python",
   "name": "python",
   "nbconvert_exporter": "python",
   "pygments_lexer": "ipython3",
   "version": "3.11.5"
  }
 },
 "nbformat": 4,
 "nbformat_minor": 5
}
